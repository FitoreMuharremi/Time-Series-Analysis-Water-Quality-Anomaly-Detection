{
 "cells": [
  {
   "cell_type": "markdown",
   "metadata": {},
   "source": [
    "## Svm classifier\n"
   ]
  },
  {
   "cell_type": "code",
   "execution_count": 1,
   "metadata": {},
   "outputs": [],
   "source": [
    "import pandas as pd\n",
    "import numpy as np\n",
    "from sklearn import model_selection\n",
    "from sklearn.model_selection import TimeSeriesSplit\n",
    "from sklearn.neighbors import KNeighborsClassifier\n",
    "from sklearn.model_selection import cross_validate\n",
    "from sklearn.metrics import f1_score\n",
    "from sklearn.metrics import precision_score\n",
    "from sklearn.metrics import recall_score\n",
    "from sklearn.feature_selection import SelectFromModel\n",
    "from sklearn.metrics import classification_report\n",
    "from sklearn.model_selection import LeaveOneOut\n",
    "from sklearn.model_selection import RepeatedKFold\n",
    "from sklearn.model_selection import ShuffleSplit\n",
    "from sklearn.model_selection import RepeatedStratifiedKFold\n",
    "from sklearn import preprocessing\n",
    "from sklearn.metrics import confusion_matrix\n",
    "from sklearn.ensemble import RandomForestClassifier\n",
    "from sklearn.svm import SVC\n",
    "from sklearn import preprocessing"
   ]
  },
  {
   "cell_type": "code",
   "execution_count": 2,
   "metadata": {},
   "outputs": [],
   "source": [
    "dataset = pd.read_csv('../Data/imputedWQ.csv', parse_dates=True, header=0, index_col=0)"
   ]
  },
  {
   "cell_type": "code",
   "execution_count": 3,
   "metadata": {},
   "outputs": [],
   "source": [
    "testset = pd.read_csv('../Data/testing2018.csv', parse_dates=True, header=0, index_col=0)"
   ]
  },
  {
   "cell_type": "code",
   "execution_count": 4,
   "metadata": {},
   "outputs": [],
   "source": [
    "X = dataset.drop('EVENT', axis=1)  \n",
    "y = dataset['EVENT']  "
   ]
  },
  {
   "cell_type": "code",
   "execution_count": 5,
   "metadata": {},
   "outputs": [],
   "source": [
    "# from sklearn.model_selection import train_test_split  \n",
    "# X_train, X_test, y_train, y_test = train_test_split(X, y, test_size = 0.30) "
   ]
  },
  {
   "cell_type": "code",
   "execution_count": 6,
   "metadata": {},
   "outputs": [],
   "source": [
    "# y_pred = svclassifier.predict(X_test)  "
   ]
  },
  {
   "cell_type": "code",
   "execution_count": 7,
   "metadata": {},
   "outputs": [],
   "source": [
    "# print(classification_report(y_test,y_pred)) "
   ]
  },
  {
   "cell_type": "markdown",
   "metadata": {},
   "source": [
    "# TimeSeriesSplit\n",
    "## Special case of KFold\n",
    "### Param: n_splits according to the number of months\n",
    "\n",
    "P.s: even though this probably would not result in accurate month separation, probably would go more with accurate samples separation"
   ]
  },
  {
   "cell_type": "code",
   "execution_count": 8,
   "metadata": {},
   "outputs": [],
   "source": [
    "tss = TimeSeriesSplit(n_splits=4)\n",
    "# kn = KNeighborsClassifier(n_neighbors=5, algorithm='brute') \n",
    "# sc = cross_val_score(kn, X, y, cv=tss, scoring='accuracy')"
   ]
  },
  {
   "cell_type": "code",
   "execution_count": 9,
   "metadata": {},
   "outputs": [
    {
     "data": {
      "text/html": [
       "<div>\n",
       "<style scoped>\n",
       "    .dataframe tbody tr th:only-of-type {\n",
       "        vertical-align: middle;\n",
       "    }\n",
       "\n",
       "    .dataframe tbody tr th {\n",
       "        vertical-align: top;\n",
       "    }\n",
       "\n",
       "    .dataframe thead th {\n",
       "        text-align: right;\n",
       "    }\n",
       "</style>\n",
       "<table border=\"1\" class=\"dataframe\">\n",
       "  <thead>\n",
       "    <tr style=\"text-align: right;\">\n",
       "      <th></th>\n",
       "      <th>Tp</th>\n",
       "      <th>Cl</th>\n",
       "      <th>pH</th>\n",
       "      <th>Redox</th>\n",
       "      <th>Leit</th>\n",
       "      <th>Trueb</th>\n",
       "      <th>Cl_2</th>\n",
       "      <th>Fm</th>\n",
       "      <th>Fm_2</th>\n",
       "      <th>EVENT</th>\n",
       "    </tr>\n",
       "    <tr>\n",
       "      <th>Time</th>\n",
       "      <th></th>\n",
       "      <th></th>\n",
       "      <th></th>\n",
       "      <th></th>\n",
       "      <th></th>\n",
       "      <th></th>\n",
       "      <th></th>\n",
       "      <th></th>\n",
       "      <th></th>\n",
       "      <th></th>\n",
       "    </tr>\n",
       "  </thead>\n",
       "  <tbody>\n",
       "    <tr>\n",
       "      <th>8</th>\n",
       "      <td>290766.552632</td>\n",
       "      <td>6801.383362</td>\n",
       "      <td>343517.849450</td>\n",
       "      <td>3.096140e+07</td>\n",
       "      <td>8.664862e+06</td>\n",
       "      <td>787160.949453</td>\n",
       "      <td>4.009652e+06</td>\n",
       "      <td>6.738802e+07</td>\n",
       "      <td>3.886867e+07</td>\n",
       "      <td>165.0</td>\n",
       "    </tr>\n",
       "    <tr>\n",
       "      <th>9</th>\n",
       "      <td>353961.000000</td>\n",
       "      <td>7172.786251</td>\n",
       "      <td>361367.891324</td>\n",
       "      <td>3.252038e+07</td>\n",
       "      <td>9.111793e+06</td>\n",
       "      <td>865092.986451</td>\n",
       "      <td>4.396304e+06</td>\n",
       "      <td>6.858502e+07</td>\n",
       "      <td>4.055888e+07</td>\n",
       "      <td>1310.0</td>\n",
       "    </tr>\n",
       "    <tr>\n",
       "      <th>10</th>\n",
       "      <td>431439.430435</td>\n",
       "      <td>7384.794348</td>\n",
       "      <td>374076.693977</td>\n",
       "      <td>3.364090e+07</td>\n",
       "      <td>9.410047e+06</td>\n",
       "      <td>710263.140783</td>\n",
       "      <td>4.398462e+06</td>\n",
       "      <td>6.299596e+07</td>\n",
       "      <td>4.047184e+07</td>\n",
       "      <td>174.0</td>\n",
       "    </tr>\n",
       "    <tr>\n",
       "      <th>11</th>\n",
       "      <td>112340.400000</td>\n",
       "      <td>1736.240000</td>\n",
       "      <td>88673.130000</td>\n",
       "      <td>7.957033e+06</td>\n",
       "      <td>2.056404e+06</td>\n",
       "      <td>144211.260000</td>\n",
       "      <td>9.913454e+05</td>\n",
       "      <td>1.533976e+07</td>\n",
       "      <td>9.644754e+06</td>\n",
       "      <td>77.0</td>\n",
       "    </tr>\n",
       "  </tbody>\n",
       "</table>\n",
       "</div>"
      ],
      "text/plain": [
       "                 Tp           Cl             pH         Redox          Leit  \\\n",
       "Time                                                                          \n",
       "8     290766.552632  6801.383362  343517.849450  3.096140e+07  8.664862e+06   \n",
       "9     353961.000000  7172.786251  361367.891324  3.252038e+07  9.111793e+06   \n",
       "10    431439.430435  7384.794348  374076.693977  3.364090e+07  9.410047e+06   \n",
       "11    112340.400000  1736.240000   88673.130000  7.957033e+06  2.056404e+06   \n",
       "\n",
       "              Trueb          Cl_2            Fm          Fm_2   EVENT  \n",
       "Time                                                                   \n",
       "8     787160.949453  4.009652e+06  6.738802e+07  3.886867e+07   165.0  \n",
       "9     865092.986451  4.396304e+06  6.858502e+07  4.055888e+07  1310.0  \n",
       "10    710263.140783  4.398462e+06  6.299596e+07  4.047184e+07   174.0  \n",
       "11    144211.260000  9.913454e+05  1.533976e+07  9.644754e+06    77.0  "
      ]
     },
     "execution_count": 9,
     "metadata": {},
     "output_type": "execute_result"
    }
   ],
   "source": [
    "dataset.groupby(dataset.index.month).sum()"
   ]
  },
  {
   "cell_type": "code",
   "execution_count": 10,
   "metadata": {
    "scrolled": true
   },
   "outputs": [
    {
     "data": {
      "text/html": [
       "<div>\n",
       "<style scoped>\n",
       "    .dataframe tbody tr th:only-of-type {\n",
       "        vertical-align: middle;\n",
       "    }\n",
       "\n",
       "    .dataframe tbody tr th {\n",
       "        vertical-align: top;\n",
       "    }\n",
       "\n",
       "    .dataframe thead th {\n",
       "        text-align: right;\n",
       "    }\n",
       "</style>\n",
       "<table border=\"1\" class=\"dataframe\">\n",
       "  <thead>\n",
       "    <tr style=\"text-align: right;\">\n",
       "      <th></th>\n",
       "      <th>Tp</th>\n",
       "      <th>Cl</th>\n",
       "      <th>pH</th>\n",
       "      <th>Redox</th>\n",
       "      <th>Leit</th>\n",
       "      <th>Trueb</th>\n",
       "      <th>Cl_2</th>\n",
       "      <th>Fm</th>\n",
       "      <th>Fm_2</th>\n",
       "      <th>EVENT</th>\n",
       "    </tr>\n",
       "    <tr>\n",
       "      <th>Time</th>\n",
       "      <th></th>\n",
       "      <th></th>\n",
       "      <th></th>\n",
       "      <th></th>\n",
       "      <th></th>\n",
       "      <th></th>\n",
       "      <th></th>\n",
       "      <th></th>\n",
       "      <th></th>\n",
       "      <th></th>\n",
       "    </tr>\n",
       "  </thead>\n",
       "  <tbody>\n",
       "    <tr>\n",
       "      <th>1</th>\n",
       "      <td>168946.9</td>\n",
       "      <td>6486.070000</td>\n",
       "      <td>367918.485157</td>\n",
       "      <td>3.433636e+07</td>\n",
       "      <td>1.030073e+07</td>\n",
       "      <td>810.50142</td>\n",
       "      <td>4804.052413</td>\n",
       "      <td>65217445.0</td>\n",
       "      <td>45054296.0</td>\n",
       "      <td>773.0</td>\n",
       "    </tr>\n",
       "    <tr>\n",
       "      <th>2</th>\n",
       "      <td>65273.9</td>\n",
       "      <td>2560.330000</td>\n",
       "      <td>144423.580000</td>\n",
       "      <td>1.363104e+07</td>\n",
       "      <td>3.474466e+06</td>\n",
       "      <td>286.97000</td>\n",
       "      <td>1847.039119</td>\n",
       "      <td>26277783.0</td>\n",
       "      <td>18979849.0</td>\n",
       "      <td>895.0</td>\n",
       "    </tr>\n",
       "    <tr>\n",
       "      <th>11</th>\n",
       "      <td>183728.9</td>\n",
       "      <td>3401.380063</td>\n",
       "      <td>177387.328683</td>\n",
       "      <td>1.620504e+07</td>\n",
       "      <td>4.328124e+06</td>\n",
       "      <td>425.34816</td>\n",
       "      <td>2341.372000</td>\n",
       "      <td>30974768.0</td>\n",
       "      <td>19343072.0</td>\n",
       "      <td>352.0</td>\n",
       "    </tr>\n",
       "    <tr>\n",
       "      <th>12</th>\n",
       "      <td>171830.7</td>\n",
       "      <td>4713.325094</td>\n",
       "      <td>260945.894188</td>\n",
       "      <td>2.417727e+07</td>\n",
       "      <td>7.182003e+06</td>\n",
       "      <td>634.66800</td>\n",
       "      <td>3317.529000</td>\n",
       "      <td>44719245.0</td>\n",
       "      <td>26572835.0</td>\n",
       "      <td>309.0</td>\n",
       "    </tr>\n",
       "  </tbody>\n",
       "</table>\n",
       "</div>"
      ],
      "text/plain": [
       "            Tp           Cl             pH         Redox          Leit  \\\n",
       "Time                                                                     \n",
       "1     168946.9  6486.070000  367918.485157  3.433636e+07  1.030073e+07   \n",
       "2      65273.9  2560.330000  144423.580000  1.363104e+07  3.474466e+06   \n",
       "11    183728.9  3401.380063  177387.328683  1.620504e+07  4.328124e+06   \n",
       "12    171830.7  4713.325094  260945.894188  2.417727e+07  7.182003e+06   \n",
       "\n",
       "          Trueb         Cl_2          Fm        Fm_2  EVENT  \n",
       "Time                                                         \n",
       "1     810.50142  4804.052413  65217445.0  45054296.0  773.0  \n",
       "2     286.97000  1847.039119  26277783.0  18979849.0  895.0  \n",
       "11    425.34816  2341.372000  30974768.0  19343072.0  352.0  \n",
       "12    634.66800  3317.529000  44719245.0  26572835.0  309.0  "
      ]
     },
     "execution_count": 10,
     "metadata": {},
     "output_type": "execute_result"
    }
   ],
   "source": [
    "testset.groupby(testset.index.month).sum()"
   ]
  },
  {
   "cell_type": "markdown",
   "metadata": {},
   "source": [
    "## TimeSeries CV\n",
    "\n",
    "- Applying TimeSeriesSplit in cross validation with multiple scores\n",
    "    - F1-macro (alter. f1_weighted, f1_micro)\n",
    "    - Precision\n",
    "    - Recall\n",
    "    \n",
    "P.s errors result because the classifier on specific folds couldn't identify at all one class and probably gave just true or false ( I guess false in this case because of high class-imbalance)"
   ]
  },
  {
   "cell_type": "code",
   "execution_count": 11,
   "metadata": {},
   "outputs": [],
   "source": [
    "scoring = ['f1', 'roc_auc', 'f1_macro', 'precision', 'recall']"
   ]
  },
  {
   "cell_type": "code",
   "execution_count": 12,
   "metadata": {},
   "outputs": [],
   "source": [
    "scaler = preprocessing.StandardScaler()\n",
    "X_train_standard = scaler.fit_transform(X)\n",
    "\n",
    "svm_clf = SVC(C=100, gamma=0.001 )           \n",
    "              \n",
    "results = cross_validate(svm_clf, X, y, cv=tss, scoring=scoring, n_jobs=-1)"
   ]
  },
  {
   "cell_type": "code",
   "execution_count": 13,
   "metadata": {},
   "outputs": [
    {
     "name": "stdout",
     "output_type": "stream",
     "text": [
      "Model(svm, c=100, gamma=0.001): (0.008230534536423157, 0.7975736167850658, 0.4954848766875112, 0.1829782597549095,0.0699796633359834)\n",
      "\n"
     ]
    }
   ],
   "source": [
    "print(\"Model(svm, c=100, gamma=0.001): ({0}, {1}, {2}, {3},{4})\\n\".format(results['test_f1'].mean(), results['test_roc_auc'].mean(), results['test_f1_macro'].mean(), results['test_precision'].mean(), results['test_recall'].mean()))"
   ]
  },
  {
   "cell_type": "code",
   "execution_count": 14,
   "metadata": {},
   "outputs": [
    {
     "data": {
      "text/plain": [
       "SVC(C=100, cache_size=200, class_weight=None, coef0=0.0,\n",
       "  decision_function_shape='ovr', degree=3, gamma=0.001, kernel='rbf',\n",
       "  max_iter=-1, probability=False, random_state=None, shrinking=True,\n",
       "  tol=0.001, verbose=False)"
      ]
     },
     "execution_count": 14,
     "metadata": {},
     "output_type": "execute_result"
    }
   ],
   "source": [
    "svm_clf.fit(X_train_standard, y)"
   ]
  },
  {
   "cell_type": "code",
   "execution_count": 15,
   "metadata": {},
   "outputs": [],
   "source": [
    "y_pred = svm_clf.predict(scaler.transform(X))"
   ]
  },
  {
   "cell_type": "code",
   "execution_count": 16,
   "metadata": {},
   "outputs": [
    {
     "data": {
      "text/plain": [
       "0.8156462585034013"
      ]
     },
     "execution_count": 16,
     "metadata": {},
     "output_type": "execute_result"
    }
   ],
   "source": [
    "f1_score(y_pred, y)\n",
    "#f1_score(y_pred, y, average='macro')"
   ]
  },
  {
   "cell_type": "markdown",
   "metadata": {},
   "source": [
    "## GridSearchCV\n",
    "### Hyperparameter optimizations for RandForest classifier\n",
    "\n",
    "- Scoring F1_macro can be changed to precision, recall or f1_weighted or f1_micro and possibly you would get different parameters."
   ]
  },
  {
   "cell_type": "code",
   "execution_count": 17,
   "metadata": {},
   "outputs": [],
   "source": [
    "#from sklearn.grid_search import GridSearchCV\n",
    "from sklearn.model_selection import GridSearchCV\n",
    "\n",
    "param_grid = [{'C': [1, 10, 100, 1000], 'gamma': [0.001, 0.0001], 'kernel': ['rbf'],'class_weight': ['balanced']},\n",
    " ]  \n",
    "\n",
    "\n",
    "grid = GridSearchCV(SVC(), param_grid, cv=tss, scoring=\"f1_macro\", n_jobs=-1)"
   ]
  },
  {
   "cell_type": "code",
   "execution_count": 18,
   "metadata": {},
   "outputs": [
    {
     "data": {
      "text/plain": [
       "GridSearchCV(cv=TimeSeriesSplit(max_train_size=None, n_splits=4),\n",
       "       error_score='raise',\n",
       "       estimator=SVC(C=1.0, cache_size=200, class_weight=None, coef0=0.0,\n",
       "  decision_function_shape='ovr', degree=3, gamma='auto', kernel='rbf',\n",
       "  max_iter=-1, probability=False, random_state=None, shrinking=True,\n",
       "  tol=0.001, verbose=False),\n",
       "       fit_params=None, iid=True, n_jobs=-1,\n",
       "       param_grid=[{'C': [1, 10, 100, 1000], 'gamma': [0.001, 0.0001], 'kernel': ['rbf'], 'class_weight': ['balanced']}],\n",
       "       pre_dispatch='2*n_jobs', refit=True, return_train_score='warn',\n",
       "       scoring='f1_macro', verbose=0)"
      ]
     },
     "execution_count": 18,
     "metadata": {},
     "output_type": "execute_result"
    }
   ],
   "source": [
    "grid.fit(X,y)"
   ]
  },
  {
   "cell_type": "code",
   "execution_count": 19,
   "metadata": {},
   "outputs": [
    {
     "data": {
      "text/plain": [
       "{'C': 1000, 'class_weight': 'balanced', 'gamma': 0.0001, 'kernel': 'rbf'}"
      ]
     },
     "execution_count": 19,
     "metadata": {},
     "output_type": "execute_result"
    }
   ],
   "source": [
    "grid.best_params_"
   ]
  },
  {
   "cell_type": "code",
   "execution_count": 20,
   "metadata": {},
   "outputs": [],
   "source": [
    "model = grid.best_estimator_"
   ]
  },
  {
   "cell_type": "code",
   "execution_count": 21,
   "metadata": {},
   "outputs": [],
   "source": [
    "results = cross_validate(model, X, y, cv=tss, scoring=scoring, n_jobs=-1)"
   ]
  },
  {
   "cell_type": "code",
   "execution_count": 22,
   "metadata": {},
   "outputs": [
    {
     "name": "stdout",
     "output_type": "stream",
     "text": [
      "Model(svm, c:1000,balanced, gamma=0.0001, 'rbf'): (0.1493683707425046, 0.5603742858555992, 0.33461734382891273)\n",
      "\n"
     ]
    }
   ],
   "source": [
    "print(\"Model(svm, c:1000,balanced, gamma=0.0001, 'rbf'): ({0}, {1}, {2})\\n\".format(results['test_f1'].mean(), results['test_f1_macro'].mean(), results['test_precision'].mean(), results['test_recall'].mean()))"
   ]
  },
  {
   "cell_type": "markdown",
   "metadata": {},
   "source": [
    "# Testing on Test set"
   ]
  },
  {
   "cell_type": "code",
   "execution_count": 23,
   "metadata": {},
   "outputs": [],
   "source": [
    "testset.fillna(0, inplace=True)"
   ]
  },
  {
   "cell_type": "code",
   "execution_count": 24,
   "metadata": {},
   "outputs": [],
   "source": [
    "X_test = testset.drop('EVENT', axis=1)  \n",
    "y_test = testset['EVENT']  "
   ]
  },
  {
   "cell_type": "code",
   "execution_count": 25,
   "metadata": {},
   "outputs": [],
   "source": [
    "predicted = model.predict(X_test)"
   ]
  },
  {
   "cell_type": "code",
   "execution_count": 37,
   "metadata": {},
   "outputs": [],
   "source": [
    "predicted = predicted<0.1"
   ]
  },
  {
   "cell_type": "code",
   "execution_count": 38,
   "metadata": {},
   "outputs": [
    {
     "data": {
      "text/plain": [
       "0.4829012220989268"
      ]
     },
     "execution_count": 38,
     "metadata": {},
     "output_type": "execute_result"
    }
   ],
   "source": [
    "f1_score(y_test,predicted, average='macro')"
   ]
  },
  {
   "cell_type": "code",
   "execution_count": 39,
   "metadata": {},
   "outputs": [
    {
     "data": {
      "text/plain": [
       "array([[124660,  12577],\n",
       "       [  2166,    163]])"
      ]
     },
     "execution_count": 39,
     "metadata": {},
     "output_type": "execute_result"
    }
   ],
   "source": [
    "confusion_matrix(y_test,predicted)"
   ]
  },
  {
   "cell_type": "code",
   "execution_count": null,
   "metadata": {},
   "outputs": [],
   "source": []
  }
 ],
 "metadata": {
  "kernelspec": {
   "display_name": "Python 3",
   "language": "python",
   "name": "python3"
  },
  "language_info": {
   "codemirror_mode": {
    "name": "ipython",
    "version": 3
   },
   "file_extension": ".py",
   "mimetype": "text/x-python",
   "name": "python",
   "nbconvert_exporter": "python",
   "pygments_lexer": "ipython3",
   "version": "3.6.5"
  }
 },
 "nbformat": 4,
 "nbformat_minor": 2
}
