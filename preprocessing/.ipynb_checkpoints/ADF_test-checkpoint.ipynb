{
 "cells": [
  {
   "cell_type": "markdown",
   "metadata": {},
   "source": [
    "# Stationary Tests \n",
    " ## 1. Augmented Dickey-Fuller Test \n"
   ]
  },
  {
   "cell_type": "code",
   "execution_count": 1,
   "metadata": {},
   "outputs": [],
   "source": [
    "import pandas as pd\n",
    "import numpy as np\n",
    "import matplotlib.pyplot as plt\n",
    "from statsmodels.tsa.stattools import adfuller, kpss\n"
   ]
  },
  {
   "cell_type": "code",
   "execution_count": 2,
   "metadata": {},
   "outputs": [],
   "source": [
    "df = pd.read_csv('imputedWQ.csv', parse_dates=True, header=0, index_col=0)"
   ]
  },
  {
   "cell_type": "code",
   "execution_count": 3,
   "metadata": {},
   "outputs": [],
   "source": [
    "# create Series object\n",
    "Tp = df['Tp']\n",
    "Cl = df['Cl']\n",
    "pH = df['pH']\n",
    "Redox = df['Redox']\n",
    "Leit = df['Leit']\n",
    "Cl2 = df['Cl_2']\n",
    "Fm = df['Fm']\n",
    "Fm_2 = df['Fm_2']"
   ]
  },
  {
   "cell_type": "markdown",
   "metadata": {},
   "source": [
    "##### Implementation of Augmented Dickey-Fuller Test, using adfuller function\n",
    "$ H_0: \\gamma = 0,$ the time series is non-stationary, against\n",
    "$  H_1: \\gamma \\leq 0,$ the time series is stationary.\n"
   ]
  },
  {
   "cell_type": "code",
   "execution_count": 4,
   "metadata": {},
   "outputs": [],
   "source": [
    "def adf_test(y):\n",
    "    # perform Augmented Dickey Fuller test\n",
    "    print('Results of Augmented Dickey-Fuller test:')\n",
    "    dftest = adfuller(y, autolag='AIC')\n",
    "    dfoutput = pd.Series(dftest[0:4], index=['test statistic', 'p-value', '# of lags', '# of observations'])\n",
    "    for key, value in dftest[4].items():\n",
    "        dfoutput['Critical Value ({})'.format(key)] = value\n",
    "    print(dfoutput)\n"
   ]
  },
  {
   "cell_type": "code",
   "execution_count": 5,
   "metadata": {},
   "outputs": [
    {
     "name": "stdout",
     "output_type": "stream",
     "text": [
      "Results of Augmented Dickey-Fuller test:\n",
      "test statistic              -1.369337\n",
      "p-value                      0.596885\n",
      "# of lags                   74.000000\n",
      "# of observations       139491.000000\n",
      "Critical Value (1%)         -3.430397\n",
      "Critical Value (5%)         -2.861561\n",
      "Critical Value (10%)        -2.566781\n",
      "dtype: float64\n"
     ]
    }
   ],
   "source": [
    "adf_test(Tp)\n",
    "#p-value is greater than 0.05, and test statistic is greater than 5%critical values, hence the hypothesis can not be rejected\n",
    "# The Tp timeseries is not stationart- it is deoendent on time\n"
   ]
  },
  {
   "cell_type": "code",
   "execution_count": 6,
   "metadata": {},
   "outputs": [
    {
     "name": "stdout",
     "output_type": "stream",
     "text": [
      "Results of Augmented Dickey-Fuller test:\n",
      "test statistic             -34.342080\n",
      "p-value                      0.000000\n",
      "# of lags                   74.000000\n",
      "# of observations       139491.000000\n",
      "Critical Value (1%)         -3.430397\n",
      "Critical Value (5%)         -2.861561\n",
      "Critical Value (10%)        -2.566781\n",
      "dtype: float64\n"
     ]
    }
   ],
   "source": [
    "adf_test(Cl)"
   ]
  },
  {
   "cell_type": "code",
   "execution_count": 7,
   "metadata": {},
   "outputs": [
    {
     "name": "stdout",
     "output_type": "stream",
     "text": [
      "Results of Augmented Dickey-Fuller test:\n",
      "test statistic             -29.634648\n",
      "p-value                      0.000000\n",
      "# of lags                   74.000000\n",
      "# of observations       139491.000000\n",
      "Critical Value (1%)         -3.430397\n",
      "Critical Value (5%)         -2.861561\n",
      "Critical Value (10%)        -2.566781\n",
      "dtype: float64\n"
     ]
    }
   ],
   "source": [
    "adf_test(pH)\n",
    "#Test statistic is under 5% critical values, and the p-values is less then 0.05(it gives us a strong evidence), we reject the null hypothesis\n",
    "#The timeserie is stationary"
   ]
  },
  {
   "cell_type": "code",
   "execution_count": 8,
   "metadata": {},
   "outputs": [
    {
     "name": "stdout",
     "output_type": "stream",
     "text": [
      "Results of Augmented Dickey-Fuller test:\n",
      "test statistic             -25.285047\n",
      "p-value                      0.000000\n",
      "# of lags                   73.000000\n",
      "# of observations       139492.000000\n",
      "Critical Value (1%)         -3.430397\n",
      "Critical Value (5%)         -2.861561\n",
      "Critical Value (10%)        -2.566781\n",
      "dtype: float64\n"
     ]
    }
   ],
   "source": [
    "adf_test(Redox)"
   ]
  },
  {
   "cell_type": "code",
   "execution_count": 9,
   "metadata": {},
   "outputs": [
    {
     "name": "stdout",
     "output_type": "stream",
     "text": [
      "Results of Augmented Dickey-Fuller test:\n",
      "test statistic         -1.777003e+01\n",
      "p-value                 3.310506e-30\n",
      "# of lags               7.200000e+01\n",
      "# of observations       1.394930e+05\n",
      "Critical Value (1%)    -3.430397e+00\n",
      "Critical Value (5%)    -2.861561e+00\n",
      "Critical Value (10%)   -2.566781e+00\n",
      "dtype: float64\n"
     ]
    }
   ],
   "source": [
    "adf_test(Leit)"
   ]
  },
  {
   "cell_type": "code",
   "execution_count": 10,
   "metadata": {},
   "outputs": [
    {
     "name": "stdout",
     "output_type": "stream",
     "text": [
      "Results of Augmented Dickey-Fuller test:\n",
      "test statistic             -24.125646\n",
      "p-value                      0.000000\n",
      "# of lags                   71.000000\n",
      "# of observations       139494.000000\n",
      "Critical Value (1%)         -3.430397\n",
      "Critical Value (5%)         -2.861561\n",
      "Critical Value (10%)        -2.566781\n",
      "dtype: float64\n"
     ]
    }
   ],
   "source": [
    "adf_test(Cl2)"
   ]
  },
  {
   "cell_type": "code",
   "execution_count": 11,
   "metadata": {},
   "outputs": [
    {
     "name": "stdout",
     "output_type": "stream",
     "text": [
      "Results of Augmented Dickey-Fuller test:\n",
      "test statistic         -1.038433e+01\n",
      "p-value                 2.099096e-18\n",
      "# of lags               7.300000e+01\n",
      "# of observations       1.394920e+05\n",
      "Critical Value (1%)    -3.430397e+00\n",
      "Critical Value (5%)    -2.861561e+00\n",
      "Critical Value (10%)   -2.566781e+00\n",
      "dtype: float64\n"
     ]
    }
   ],
   "source": [
    "adf_test(Fm)"
   ]
  },
  {
   "cell_type": "code",
   "execution_count": 12,
   "metadata": {},
   "outputs": [
    {
     "name": "stdout",
     "output_type": "stream",
     "text": [
      "Results of Augmented Dickey-Fuller test:\n",
      "test statistic         -1.553115e+01\n",
      "p-value                 2.219626e-28\n",
      "# of lags               7.400000e+01\n",
      "# of observations       1.394910e+05\n",
      "Critical Value (1%)    -3.430397e+00\n",
      "Critical Value (5%)    -2.861561e+00\n",
      "Critical Value (10%)   -2.566781e+00\n",
      "dtype: float64\n"
     ]
    }
   ],
   "source": [
    "adf_test(Fm_2)"
   ]
  },
  {
   "cell_type": "markdown",
   "metadata": {},
   "source": [
    "All timeseries of Water Quality dataset are stationary, except the Temperature. It is dependent on time."
   ]
  },
  {
   "cell_type": "markdown",
   "metadata": {},
   "source": [
    "# Testing our Time Series and Stationarize a Time Series\n",
    "##### monitor the progress of stationarizing our time series\n",
    "It includes the rolling mean and rolling standard deviation of a time series with a 97 days window, the ACF, PACF, QQ Plot, histogram, and computes the Augmented-Dickey Fuller Test."
   ]
  },
  {
   "cell_type": "code",
   "execution_count": 13,
   "metadata": {},
   "outputs": [],
   "source": [
    "import statsmodels.api as smt"
   ]
  },
  {
   "cell_type": "code",
   "execution_count": 14,
   "metadata": {},
   "outputs": [],
   "source": [
    "def ts_diagnostics(y, lags=None, title='', filename=''):\n",
    "    '''\n",
    "    Calculate acf, pacf, qq plot and Augmented Dickey Fuller test for a given time series\n",
    "    '''\n",
    "    if not isinstance(y, pd.Series):\n",
    "        y = pd.Series(y)\n",
    "        \n",
    "    # weekly moving averages (5 day window because of workdays)\n",
    "    rolling_mean = y.rolling( window=1440).mean\n",
    "    rolling_std = y.rolling( window=1440).std\n",
    "    \n",
    "    fig = plt.figure(figsize=(14, 12))\n",
    "    layout = (3, 2)\n",
    "    ts_ax = plt.subplot2grid(layout, (0, 0), colspan=2)\n",
    "    acf_ax = plt.subplot2grid(layout, (1, 0))\n",
    "    pacf_ax = plt.subplot2grid(layout, (1, 1))\n",
    "    qq_ax = plt.subplot2grid(layout, (2, 0))\n",
    "    hist_ax = plt.subplot2grid(layout, (2, 1))\n",
    "    \n",
    "    # time series plot\n",
    "    y.plot(ax=ts_ax)\n",
    "    rolling_mean.plot(ax=ts_ax, color='crimson');\n",
    "    rolling_std.plot(ax=ts_ax, color='darkslateblue');\n",
    "    plt.legend(loc='best')\n",
    "    ts_ax.set_title(title, fontsize=24);\n",
    "    \n",
    "    # acf and pacf\n",
    "    smt.tsa.graphics.plot_acf(y, lags=lags, ax=acf_ax, alpha=0.5)\n",
    "    smt.tsa.graphics.plot_pacf(y, lags=lags, ax=pacf_ax, alpha=0.5) \n",
    "    \n",
    "    # qq plot\n",
    "    smt.qqplot(y, line='s', ax=qq_ax)\n",
    "    qq_ax.set_title('QQ Plot')\n",
    "    \n",
    "    # hist plot\n",
    "    y.plot(ax=hist_ax, kind='hist', bins=25);\n",
    "    hist_ax.set_title('Histogram');\n",
    "    plt.tight_layout();\n",
    "    plt.savefig('./Images/{}.png'.format(filename))\n",
    "    plt.show()\n",
    "    \n",
    "    # perform Augmented Dickey Fuller test\n",
    "    print('Results of Dickey-Fuller test:')\n",
    "    dftest = adfuller(y, autolag='AIC')\n",
    "    dfoutput = pd.Series(dftest[0:4], index=['test statistic', 'p-value', '# of lags', '# of observations'])\n",
    "    for key, value in dftest[4].items():\n",
    "        dfoutput['Critical Value (%s)'%key] = value\n",
    "    print(dfoutput)\n",
    "    return"
   ]
  },
  {
   "cell_type": "markdown",
   "metadata": {},
   "source": [
    "## First Order Difference\n",
    "We assume that we can remove the trend from our data using first order differencing, however, note that differencing and detrending are two separate concepts."
   ]
  },
  {
   "cell_type": "code",
   "execution_count": 33,
   "metadata": {},
   "outputs": [
    {
     "ename": "AttributeError",
     "evalue": "'function' object has no attribute 'plot'",
     "output_type": "error",
     "traceback": [
      "\u001b[0;31m---------------------------------------------------------------------------\u001b[0m",
      "\u001b[0;31mAttributeError\u001b[0m                            Traceback (most recent call last)",
      "\u001b[0;32m<ipython-input-33-c8fd0b47be0d>\u001b[0m in \u001b[0;36m<module>\u001b[0;34m()\u001b[0m\n\u001b[1;32m      3\u001b[0m \u001b[0;34m\u001b[0m\u001b[0m\n\u001b[1;32m      4\u001b[0m \u001b[0;31m# compute time series diagnostics\u001b[0m\u001b[0;34m\u001b[0m\u001b[0;34m\u001b[0m\u001b[0m\n\u001b[0;32m----> 5\u001b[0;31m \u001b[0mts_diagnostics\u001b[0m\u001b[0;34m(\u001b[0m\u001b[0my_diff\u001b[0m\u001b[0;34m,\u001b[0m \u001b[0mlags\u001b[0m\u001b[0;34m=\u001b[0m\u001b[0;36m30\u001b[0m\u001b[0;34m,\u001b[0m \u001b[0mtitle\u001b[0m\u001b[0;34m=\u001b[0m\u001b[0;34m'Differencing Temperature'\u001b[0m\u001b[0;34m,\u001b[0m \u001b[0mfilename\u001b[0m\u001b[0;34m=\u001b[0m\u001b[0;34m'adf_diff'\u001b[0m\u001b[0;34m)\u001b[0m\u001b[0;34m\u001b[0m\u001b[0m\n\u001b[0m",
      "\u001b[0;32m<ipython-input-32-2f90c20622f0>\u001b[0m in \u001b[0;36mts_diagnostics\u001b[0;34m(y, lags, title, filename)\u001b[0m\n\u001b[1;32m     20\u001b[0m     \u001b[0;31m# time series plot\u001b[0m\u001b[0;34m\u001b[0m\u001b[0;34m\u001b[0m\u001b[0m\n\u001b[1;32m     21\u001b[0m     \u001b[0my\u001b[0m\u001b[0;34m.\u001b[0m\u001b[0mplot\u001b[0m\u001b[0;34m(\u001b[0m\u001b[0max\u001b[0m\u001b[0;34m=\u001b[0m\u001b[0mts_ax\u001b[0m\u001b[0;34m)\u001b[0m\u001b[0;34m\u001b[0m\u001b[0m\n\u001b[0;32m---> 22\u001b[0;31m     \u001b[0mrolling_mean\u001b[0m\u001b[0;34m.\u001b[0m\u001b[0mplot\u001b[0m\u001b[0;34m(\u001b[0m\u001b[0max\u001b[0m\u001b[0;34m=\u001b[0m\u001b[0mts_ax\u001b[0m\u001b[0;34m,\u001b[0m \u001b[0mcolor\u001b[0m\u001b[0;34m=\u001b[0m\u001b[0;34m'crimson'\u001b[0m\u001b[0;34m)\u001b[0m\u001b[0;34m;\u001b[0m\u001b[0;34m\u001b[0m\u001b[0m\n\u001b[0m\u001b[1;32m     23\u001b[0m     \u001b[0mrolling_std\u001b[0m\u001b[0;34m.\u001b[0m\u001b[0mplot\u001b[0m\u001b[0;34m(\u001b[0m\u001b[0max\u001b[0m\u001b[0;34m=\u001b[0m\u001b[0mts_ax\u001b[0m\u001b[0;34m,\u001b[0m \u001b[0mcolor\u001b[0m\u001b[0;34m=\u001b[0m\u001b[0;34m'darkslateblue'\u001b[0m\u001b[0;34m)\u001b[0m\u001b[0;34m;\u001b[0m\u001b[0;34m\u001b[0m\u001b[0m\n\u001b[1;32m     24\u001b[0m     \u001b[0mplt\u001b[0m\u001b[0;34m.\u001b[0m\u001b[0mlegend\u001b[0m\u001b[0;34m(\u001b[0m\u001b[0mloc\u001b[0m\u001b[0;34m=\u001b[0m\u001b[0;34m'best'\u001b[0m\u001b[0;34m)\u001b[0m\u001b[0;34m\u001b[0m\u001b[0m\n",
      "\u001b[0;31mAttributeError\u001b[0m: 'function' object has no attribute 'plot'"
     ]
    },
    {
     "data": {
      "image/png": "[encoded data removed]",
      "text/plain": [
       "<Figure size 1008x864 with 5 Axes>"
      ]
     },
     "metadata": {},
     "output_type": "display_data"
    }
   ],
   "source": [
    "# difference time series\n",
    "y_diff = np.diff(Tp)\n",
    " \n",
    "# compute time series diagnostics\n",
    "ts_diagnostics(y_diff, lags=30, title='Differencing Temperature', filename='adf_diff')"
   ]
  },
  {
   "cell_type": "code",
   "execution_count": 26,
   "metadata": {},
   "outputs": [
    {
     "data": {
      "text/plain": [
       "2.5794432701608567e-05"
      ]
     },
     "execution_count": 26,
     "metadata": {},
     "output_type": "execute_result"
    }
   ],
   "source": [
    "y_diff.mean()"
   ]
  },
  {
   "cell_type": "code",
   "execution_count": null,
   "metadata": {},
   "outputs": [],
   "source": []
  }
 ],
 "metadata": {
  "kernelspec": {
   "display_name": "Python 2",
   "language": "python",
   "name": "python2"
  },
  "language_info": {
   "codemirror_mode": {
    "name": "ipython",
    "version": 3
   },
   "file_extension": ".py",
   "mimetype": "text/x-python",
   "name": "python",
   "nbconvert_exporter": "python",
   "pygments_lexer": "ipython3",
   "version": "3.6.5"
  }
 },
 "nbformat": 4,
 "nbformat_minor": 2
}
